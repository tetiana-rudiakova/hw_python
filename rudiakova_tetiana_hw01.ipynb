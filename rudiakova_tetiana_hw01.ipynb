{
 "cells": [
  {
   "cell_type": "code",
   "execution_count": 1,
   "metadata": {},
   "outputs": [],
   "source": [
    "import json\n",
    "\n",
    "slovnik = {}\n",
    "\n",
    "with open('alice.txt', 'r', encoding='utf-8') as file:\n",
    "\n",
    "    text = file.read()\n",
    "    text = text.replace(' ', '').replace('\\n', '')\n",
    "\n",
    "    for char in text:\n",
    "        char = char.lower()\n",
    "        if char in slovnik:\n",
    "            slovnik[char] += 1\n",
    "        else:\n",
    "            slovnik[char] = 1\n",
    "\n",
    "            \n",
    "\n",
    "with open('hw01_output.json', 'w', encoding='utf-8') as json_file:\n",
    "    json.dump(slovnik, json_file, ensure_ascii = False, indent=4)   "
   ]
  }
 ],
 "metadata": {
  "kernelspec": {
   "display_name": "Python 3",
   "language": "python",
   "name": "python3"
  },
  "language_info": {
   "codemirror_mode": {
    "name": "ipython",
    "version": 3
   },
   "file_extension": ".py",
   "mimetype": "text/x-python",
   "name": "python",
   "nbconvert_exporter": "python",
   "pygments_lexer": "ipython3",
   "version": "3.12.1"
  }
 },
 "nbformat": 4,
 "nbformat_minor": 2
}
